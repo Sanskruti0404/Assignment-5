{
 "cells": [
  {
   "cell_type": "markdown",
   "id": "4c58ce58-b56c-4bec-849a-f24b84f04fed",
   "metadata": {},
   "source": [
    "## Assignment 5 "
   ]
  },
  {
   "cell_type": "code",
   "execution_count": 5,
   "id": "e6b97952-ae22-42f6-ab92-98576360a059",
   "metadata": {},
   "outputs": [],
   "source": [
    "##Q1\n",
    "class Car:\n",
    "    def __init__(self, brand, model, color):\n",
    "        self.brand = brand\n",
    "        self.model = model\n",
    "        self.color = color\n",
    "\n",
    "    def start_engine(self):\n",
    "        print(\"Engine started.\")\n",
    "\n",
    "    def stop_engine(self):\n",
    "        print(\"Engine stopped.\")\n"
   ]
  },
  {
   "cell_type": "code",
   "execution_count": 2,
   "id": "63794e90-3549-41dd-9550-7a1fabb8e15d",
   "metadata": {},
   "outputs": [],
   "source": [
    "# Create objects of the Car class\n",
    "car1 = Car(\"Toyota\", \"Corolla\", \"Blue\")\n",
    "car2 = Car(\"Honda\", \"Civic\", \"Red\")\n"
   ]
  },
  {
   "cell_type": "code",
   "execution_count": 3,
   "id": "b1a4b936-356f-4281-a423-b439af3f3142",
   "metadata": {},
   "outputs": [
    {
     "name": "stdout",
     "output_type": "stream",
     "text": [
      "Toyota\n",
      "Civic\n"
     ]
    }
   ],
   "source": [
    "# Accessing object attributes\n",
    "print(car1.brand)  \n",
    "print(car2.model) \n",
    "     "
   ]
  },
  {
   "cell_type": "code",
   "execution_count": 4,
   "id": "67eda759-ead8-4da5-8897-dc76c2926a9b",
   "metadata": {},
   "outputs": [
    {
     "name": "stdout",
     "output_type": "stream",
     "text": [
      "Engine started.\n",
      "Engine stopped.\n"
     ]
    }
   ],
   "source": [
    "\n",
    "# Calling object methods\n",
    "car1.start_engine()  \n",
    "car2.stop_engine()  \n",
    "     \n"
   ]
  },
  {
   "cell_type": "markdown",
   "id": "293474be-b7d3-4761-9272-41a6e0360d40",
   "metadata": {},
   "source": [
    "## Q2\n",
    "The four pillars of object-oriented programming (OOP) are:\n",
    "\n",
    "-Encapsulation: Encapsulation refers to the bundling of data (attributes) and methods (behaviors) within a class. It involves hiding the internal details and providing a public interface to interact with the object. Encapsulation helps in achieving data abstraction and information hiding, ensuring that the object's state can only be accessed and modified through defined methods, promoting data integrity and security.\n",
    "\n",
    "-Inheritance: Inheritance allows the creation of new classes (derived classes) based on existing classes (base classes). The derived classes inherit the attributes and behaviors of the base class, enabling code reuse and the establishment of an \"is-a\" relationship. Inheritance promotes hierarchical organization and supports the concept of specialization and generalization.\n",
    "\n",
    "-Polymorphism: Polymorphism allows objects of different classes to be treated as objects of a common base class. It provides a way to perform a single action in different ways based on the object type. Polymorphism is achieved through method overriding (having the same method name in different classes with different implementations) and method overloading (having multiple methods with the same name but different parameters). It promotes code flexibility, extensibility, and the ability to write more generic and reusable code.\n",
    "\n",
    "-Abstraction: Abstraction involves representing the essential features and behaviors of an object while hiding unnecessary details. It focuses on defining the interface or contract for a class, without providing the implementation details. Abstraction allows the creation of abstract classes and interfaces, which serve as blueprints for concrete classes. It helps in managing complexity, reducing dependencies, and promoting modular design."
   ]
  },
  {
   "cell_type": "markdown",
   "id": "baf0d927-b272-4c83-83cf-5c8c52409379",
   "metadata": {},
   "source": [
    "## Q3\n",
    "The init() function in Python is a special method, also known as the constructor, that is automatically called when an object of a class is created. It is used to initialize the object's attributes and perform any necessary setup or initialization tasks.\n",
    "\n",
    "The primary purpose of the init() function is to ensure that the object starts in a valid state by initializing its attributes with appropriate values. It allows you to set the initial values of the object's attributes based on the arguments passed during object creation."
   ]
  },
  {
   "cell_type": "code",
   "execution_count": 6,
   "id": "5df70899-2523-499c-a482-04bce5b043a9",
   "metadata": {},
   "outputs": [],
   "source": [
    "class Person:\n",
    "    def __init__(self, name, age):\n",
    "        self.name = name\n",
    "        self.age = age\n",
    "\n",
    "    def introduce(self):\n",
    "        print(f\"Hi, my name is {self.name} and I am {self.age} years old.\")\n"
   ]
  },
  {
   "cell_type": "code",
   "execution_count": 7,
   "id": "ea10ad74-a199-4a58-88ed-99c69ed12ee5",
   "metadata": {},
   "outputs": [],
   "source": [
    "# Create objects of the Person class\n",
    "person1 = Person(\"Kuldeep\", 20)\n",
    "person2 = Person(\"Sudhansu\", 30)"
   ]
  },
  {
   "cell_type": "code",
   "execution_count": 8,
   "id": "59060ada-354b-463c-92e8-5d18c089554e",
   "metadata": {},
   "outputs": [
    {
     "name": "stdout",
     "output_type": "stream",
     "text": [
      "Hi, my name is Kuldeep and I am 20 years old.\n",
      "Hi, my name is Sudhansu and I am 30 years old.\n"
     ]
    }
   ],
   "source": [
    "# Call the introduce() method on the objects\n",
    "person1.introduce()  \n",
    "person2.introduce() \n",
    "     "
   ]
  },
  {
   "cell_type": "markdown",
   "id": "66d1b0ce-8e78-48a7-a8ae-2418422804fe",
   "metadata": {},
   "source": [
    "## Q4\n",
    "In object-oriented programming (OOP) in Python, self is used as the first parameter in method definitions within a class. It is a convention (although not mandatory) to name this parameter self. The purpose of self is to refer to the instance of the class itself, allowing access to its attributes and methods."
   ]
  },
  {
   "cell_type": "code",
   "execution_count": 9,
   "id": "b800fa86-dd44-40dd-b6fb-9de850c67ef2",
   "metadata": {},
   "outputs": [],
   "source": [
    "\n",
    "class Person:\n",
    "    def __init__(self, name, age):\n",
    "        self.name = name\n",
    "        self.age = age\n",
    "\n",
    "    def introduce(self):\n",
    "        print(f\"My name is {self.name} and I am {self.age} years old.\")"
   ]
  },
  {
   "cell_type": "code",
   "execution_count": 10,
   "id": "b102a357-cb3f-449c-86fa-a9b5b7adec3d",
   "metadata": {},
   "outputs": [
    {
     "name": "stdout",
     "output_type": "stream",
     "text": [
      "My name is kuldeep and I am 20 years old.\n"
     ]
    }
   ],
   "source": [
    "person = Person(\"kuldeep\", 20)\n",
    "person.introduce()\n",
    "     "
   ]
  },
  {
   "cell_type": "markdown",
   "id": "2aaeac07-53f3-4441-a2c8-b18b68439136",
   "metadata": {},
   "source": [
    "## Q5\n",
    "Inheritance is a fundamental concept in object-oriented programming (OOP) that allows a class to inherit attributes and methods from another class. It establishes a relationship between classes where one class (derived class or subclass) inherits the properties of another class (base class or superclass). The derived class can extend or modify the inherited attributes and methods, as well as add new ones.\n"
   ]
  },
  {
   "cell_type": "code",
   "execution_count": 11,
   "id": "0cc85170-677e-4fb9-a879-d99d1e28de39",
   "metadata": {},
   "outputs": [],
   "source": [
    "#Single Inheritance\n",
    "class Animal:\n",
    "    def __init__(self, name):\n",
    "        self.name = name\n",
    "\n",
    "    def speak(self):\n",
    "        print(\"Animal speaks\")\n",
    "\n",
    "class Dog(Animal):\n",
    "    def speak(self):\n",
    "        print(\"Dog barks\")\n"
   ]
  },
  {
   "cell_type": "code",
   "execution_count": 12,
   "id": "a97f3f34-6a0b-4ff0-accb-f1444cd7526a",
   "metadata": {},
   "outputs": [
    {
     "name": "stdout",
     "output_type": "stream",
     "text": [
      "Dog barks\n"
     ]
    }
   ],
   "source": [
    "dog = Dog(\"Buddy\")\n",
    "dog.speak()\n",
    "     "
   ]
  },
  {
   "cell_type": "code",
   "execution_count": 13,
   "id": "0e7a8128-c8f7-4204-a6fa-0a4f189da994",
   "metadata": {},
   "outputs": [],
   "source": [
    "#Multiple Inheritance \n",
    "class Vehicle:\n",
    "    def __init__(self, brand):\n",
    "        self.brand = brand\n",
    "\n",
    "    def get_brand(self):\n",
    "        print(\"Brand:\", self.brand)\n",
    "\n",
    "class Engine:\n",
    "    def start_engine(self):\n",
    "        print(\"Engine started\")\n",
    "\n",
    "class Car(Vehicle, Engine):\n",
    "    def drive(self):\n",
    "        print(\"Car driving\")\n"
   ]
  },
  {
   "cell_type": "code",
   "execution_count": null,
   "id": "f70c5d49-d46a-42b6-9402-a097ea62ed46",
   "metadata": {},
   "outputs": [],
   "source": [
    "\n",
    "car = Car(\"Toyota\")\n",
    "car.get_brand()     \n",
    "car.start_engine() \n",
    "car.drive()        \n",
    "     "
   ]
  }
 ],
 "metadata": {
  "kernelspec": {
   "display_name": "Python 3 (ipykernel)",
   "language": "python",
   "name": "python3"
  },
  "language_info": {
   "codemirror_mode": {
    "name": "ipython",
    "version": 3
   },
   "file_extension": ".py",
   "mimetype": "text/x-python",
   "name": "python",
   "nbconvert_exporter": "python",
   "pygments_lexer": "ipython3",
   "version": "3.11.7"
  }
 },
 "nbformat": 4,
 "nbformat_minor": 5
}
